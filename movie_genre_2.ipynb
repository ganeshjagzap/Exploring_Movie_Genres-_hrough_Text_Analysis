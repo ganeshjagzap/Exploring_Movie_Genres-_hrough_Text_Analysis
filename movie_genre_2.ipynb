{
  "nbformat": 4,
  "nbformat_minor": 0,
  "metadata": {
    "colab": {
      "provenance": []
    },
    "kernelspec": {
      "name": "python3",
      "display_name": "Python 3"
    },
    "language_info": {
      "name": "python"
    }
  },
  "cells": [
    {
      "cell_type": "code",
      "execution_count": 6,
      "metadata": {
        "colab": {
          "base_uri": "https://localhost:8080/"
        },
        "id": "CMEFRueDmo2r",
        "outputId": "f830a8e8-9c82-4693-e508-de77319687b1"
      },
      "outputs": [
        {
          "output_type": "stream",
          "name": "stdout",
          "text": [
            "Predicted genre: thriller\n"
          ]
        }
      ],
      "source": [
        "import joblib\n",
        "\n",
        "\n",
        "model = joblib.load(\"/content/drive/MyDrive/NLP/genre_model.joblib\")\n",
        "vectorizer = joblib.load(\"/content/drive/MyDrive/NLP/gerne_vectorizer.joblib\")\n",
        "\n",
        "\n",
        "example_review = [\"A thrilling adventure in space where a team of astronauts fights against aliens.\"]\n",
        "example_review_vectorized = vectorizer.transform(example_review)\n",
        "predicted_genre = model.predict(example_review_vectorized)\n",
        "print(\"Predicted genre:\", predicted_genre[0])\n"
      ]
    }
  ]
}